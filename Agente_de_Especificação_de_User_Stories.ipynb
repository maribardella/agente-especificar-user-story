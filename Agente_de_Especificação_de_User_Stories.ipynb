{
  "nbformat": 4,
  "nbformat_minor": 0,
  "metadata": {
    "colab": {
      "provenance": [],
      "include_colab_link": true
    },
    "kernelspec": {
      "name": "python3",
      "display_name": "Python 3"
    },
    "language_info": {
      "name": "python"
    }
  },
  "cells": [
    {
      "cell_type": "markdown",
      "metadata": {
        "id": "view-in-github",
        "colab_type": "text"
      },
      "source": [
        "<a href=\"https://colab.research.google.com/github/maribardella/agente-especificar-user-story/blob/main/Agente_de_Especifica%C3%A7%C3%A3o_de_User_Stories.ipynb\" target=\"_parent\"><img src=\"https://colab.research.google.com/assets/colab-badge.svg\" alt=\"Open In Colab\"/></a>"
      ]
    },
    {
      "cell_type": "code",
      "source": [
        "%pip -q install google-genai"
      ],
      "metadata": {
        "id": "UCCbECexLk_h"
      },
      "execution_count": 3,
      "outputs": []
    },
    {
      "cell_type": "code",
      "source": [
        "# Configura a API Key do Google Gemini\n",
        "\n",
        "import os\n",
        "from google.colab import userdata\n",
        "\n",
        "os.environ[\"GOOGLE_API_KEY\"] = userdata.get('GOOGLE_API_KEY')"
      ],
      "metadata": {
        "id": "NfCqHo1tLk8P"
      },
      "execution_count": 4,
      "outputs": []
    },
    {
      "cell_type": "code",
      "source": [
        "# Configura o cliente da SDK do Gemini\n",
        "\n",
        "from google import genai\n",
        "\n",
        "client = genai.Client()\n",
        "\n",
        "MODEL_ID = \"gemini-2.0-flash\""
      ],
      "metadata": {
        "id": "bV4w0H5TLk5g"
      },
      "execution_count": 6,
      "outputs": []
    },
    {
      "cell_type": "code",
      "source": [
        "# Instalar Framework de agentes do Google ################################################\n",
        "!pip install -q google-adk"
      ],
      "metadata": {
        "colab": {
          "base_uri": "https://localhost:8080/"
        },
        "id": "a1eRPalxEnj7",
        "outputId": "d385550e-0a11-457d-c94c-88b41f4d2096"
      },
      "execution_count": 10,
      "outputs": [
        {
          "output_type": "stream",
          "name": "stdout",
          "text": [
            "\u001b[?25l   \u001b[90m━━━━━━━━━━━━━━━━━━━━━━━━━━━━━━━━━━━━━━━━\u001b[0m \u001b[32m0.0/1.2 MB\u001b[0m \u001b[31m?\u001b[0m eta \u001b[36m-:--:--\u001b[0m\r\u001b[2K   \u001b[91m━━━━━━━━━━━━━━━━━━━━━━━━━━━\u001b[0m\u001b[90m╺\u001b[0m\u001b[90m━━━━━━━━━━━━\u001b[0m \u001b[32m0.8/1.2 MB\u001b[0m \u001b[31m24.2 MB/s\u001b[0m eta \u001b[36m0:00:01\u001b[0m\r\u001b[2K   \u001b[90m━━━━━━━━━━━━━━━━━━━━━━━━━━━━━━━━━━━━━━━━\u001b[0m \u001b[32m1.2/1.2 MB\u001b[0m \u001b[31m20.4 MB/s\u001b[0m eta \u001b[36m0:00:00\u001b[0m\n",
            "\u001b[2K   \u001b[90m━━━━━━━━━━━━━━━━━━━━━━━━━━━━━━━━━━━━━━━━\u001b[0m \u001b[32m232.1/232.1 kB\u001b[0m \u001b[31m18.5 MB/s\u001b[0m eta \u001b[36m0:00:00\u001b[0m\n",
            "\u001b[2K   \u001b[90m━━━━━━━━━━━━━━━━━━━━━━━━━━━━━━━━━━━━━━━━\u001b[0m \u001b[32m95.2/95.2 kB\u001b[0m \u001b[31m7.0 MB/s\u001b[0m eta \u001b[36m0:00:00\u001b[0m\n",
            "\u001b[2K   \u001b[90m━━━━━━━━━━━━━━━━━━━━━━━━━━━━━━━━━━━━━━━━\u001b[0m \u001b[32m217.1/217.1 kB\u001b[0m \u001b[31m9.9 MB/s\u001b[0m eta \u001b[36m0:00:00\u001b[0m\n",
            "\u001b[2K   \u001b[90m━━━━━━━━━━━━━━━━━━━━━━━━━━━━━━━━━━━━━━━━\u001b[0m \u001b[32m334.1/334.1 kB\u001b[0m \u001b[31m22.4 MB/s\u001b[0m eta \u001b[36m0:00:00\u001b[0m\n",
            "\u001b[2K   \u001b[90m━━━━━━━━━━━━━━━━━━━━━━━━━━━━━━━━━━━━━━━━\u001b[0m \u001b[32m125.1/125.1 kB\u001b[0m \u001b[31m10.4 MB/s\u001b[0m eta \u001b[36m0:00:00\u001b[0m\n",
            "\u001b[2K   \u001b[90m━━━━━━━━━━━━━━━━━━━━━━━━━━━━━━━━━━━━━━━━\u001b[0m \u001b[32m65.8/65.8 kB\u001b[0m \u001b[31m5.0 MB/s\u001b[0m eta \u001b[36m0:00:00\u001b[0m\n",
            "\u001b[2K   \u001b[90m━━━━━━━━━━━━━━━━━━━━━━━━━━━━━━━━━━━━━━━━\u001b[0m \u001b[32m119.0/119.0 kB\u001b[0m \u001b[31m9.6 MB/s\u001b[0m eta \u001b[36m0:00:00\u001b[0m\n",
            "\u001b[2K   \u001b[90m━━━━━━━━━━━━━━━━━━━━━━━━━━━━━━━━━━━━━━━━\u001b[0m \u001b[32m194.9/194.9 kB\u001b[0m \u001b[31m15.9 MB/s\u001b[0m eta \u001b[36m0:00:00\u001b[0m\n",
            "\u001b[2K   \u001b[90m━━━━━━━━━━━━━━━━━━━━━━━━━━━━━━━━━━━━━━━━\u001b[0m \u001b[32m62.5/62.5 kB\u001b[0m \u001b[31m5.1 MB/s\u001b[0m eta \u001b[36m0:00:00\u001b[0m\n",
            "\u001b[2K   \u001b[90m━━━━━━━━━━━━━━━━━━━━━━━━━━━━━━━━━━━━━━━━\u001b[0m \u001b[32m103.3/103.3 kB\u001b[0m \u001b[31m8.1 MB/s\u001b[0m eta \u001b[36m0:00:00\u001b[0m\n",
            "\u001b[2K   \u001b[90m━━━━━━━━━━━━━━━━━━━━━━━━━━━━━━━━━━━━━━━━\u001b[0m \u001b[32m44.4/44.4 kB\u001b[0m \u001b[31m3.0 MB/s\u001b[0m eta \u001b[36m0:00:00\u001b[0m\n",
            "\u001b[2K   \u001b[90m━━━━━━━━━━━━━━━━━━━━━━━━━━━━━━━━━━━━━━━━\u001b[0m \u001b[32m72.0/72.0 kB\u001b[0m \u001b[31m5.6 MB/s\u001b[0m eta \u001b[36m0:00:00\u001b[0m\n",
            "\u001b[?25h"
          ]
        }
      ]
    },
    {
      "cell_type": "code",
      "execution_count": 15,
      "metadata": {
        "id": "aePV2bdfDeoW"
      },
      "outputs": [],
      "source": [
        "from google.adk.agents import Agent\n",
        "from google.adk.runners import Runner\n",
        "from google.adk.sessions import InMemorySessionService\n",
        "from google.adk.tools import google_search\n",
        "from google.genai import types  # Para criar conteúdos (Content e Part)\n",
        "from datetime import date\n",
        "import textwrap # Para formatar melhor a saída de texto\n",
        "from IPython.display import display, Markdown # Para exibir texto formatado no Colab\n",
        "import requests # Para fazer requisições HTTP\n",
        "import warnings\n",
        "\n",
        "warnings.filterwarnings(\"ignore\")"
      ]
    },
    {
      "cell_type": "code",
      "source": [
        "# Função auxiliar que envia uma mensagem para um agente via Runner e retorna a resposta final\n",
        "def call_agent(agent: Agent, message_text: str) -> str:\n",
        "    # Cria um serviço de sessão em memória\n",
        "    session_service = InMemorySessionService()\n",
        "    # Cria uma nova sessão (você pode personalizar os IDs conforme necessário)\n",
        "    session = session_service.create_session(app_name=agent.name, user_id=\"user1\", session_id=\"session1\")\n",
        "    # Cria um Runner para o agente\n",
        "    runner = Runner(agent=agent, app_name=agent.name, session_service=session_service)\n",
        "    # Cria o conteúdo da mensagem de entrada\n",
        "    content = types.Content(role=\"user\", parts=[types.Part(text=message_text)])\n",
        "\n",
        "    final_response = \"\"\n",
        "    # Itera assincronamente pelos eventos retornados durante a execução do agente\n",
        "    for event in runner.run(user_id=\"user1\", session_id=\"session1\", new_message=content):\n",
        "        if event.is_final_response():\n",
        "          for part in event.content.parts:\n",
        "            if part.text is not None:\n",
        "              final_response += part.text\n",
        "              final_response += \"\\n\"\n",
        "    return final_response"
      ],
      "metadata": {
        "id": "_xP4lWhsS5ko"
      },
      "execution_count": 16,
      "outputs": []
    },
    {
      "cell_type": "code",
      "source": [
        "# Função auxiliar para exibir texto formatado em Markdown no Colab\n",
        "def to_markdown(text):\n",
        "  text = text.replace('•', '  *')\n",
        "  return Markdown(textwrap.indent(text, '> ', predicate=lambda _: True))"
      ],
      "metadata": {
        "id": "8dosiodaxfFR"
      },
      "execution_count": 17,
      "outputs": []
    },
    {
      "cell_type": "code",
      "source": [
        "##########################################\n",
        "# --- Agente 1: Analisador de Contexto --- #\n",
        "##########################################\n",
        "def agente_analisador_contexto(contexto):\n",
        "\n",
        "    analisador_contexto = Agent(\n",
        "        name=\"agente_analisador_contexto\",\n",
        "        model=\"gemini-2.0-flash\",\n",
        "        instruction=\"\"\"\n",
        "        Você é um analista de produto altamente experiente, com profundo conhecimento em elicitação de requisitos e compreensão de necessidades de negócio.\n",
        "        Seu objetivo é interpretar o input fornecido por um Product Owner e extrair os elementos essenciais para criação de uma user story de qualidade.\n",
        "        Utilize boas práticas de análise de requisitos para identificar:\n",
        "        Quem é o usuário ou persona envolvida?\n",
        "        Qual é a ação ou funcionalidade desejada?\n",
        "        Qual é o benefício ou valor que essa ação traz para o usuário?\n",
        "        Há telas, fluxos ou sistemas mencionados?\n",
        "        Há informações ambíguas ou faltantes que precisam de esclarecimento?\n",
        "        \"\"\",\n",
        "        description=\"Agente que faz o entendimento sobre o produto, personas e funcionalidades.\",\n",
        "    )\n",
        "\n",
        "    entrada_do_agente_analisador_contexto = f\"Contexto: {contexto}\"\n",
        "\n",
        "    contexto_analisado = call_agent(analisador_contexto, entrada_do_agente_analisador_contexto)\n",
        "    return contexto_analisado"
      ],
      "metadata": {
        "id": "o8bqIfi_DyH8"
      },
      "execution_count": 79,
      "outputs": []
    },
    {
      "cell_type": "code",
      "source": [
        "################################################\n",
        "# --- Agente 2: Gerador de User Stories --- #\n",
        "################################################\n",
        "def agente_gerador_user_stories(contexto, contexto_analisado):\n",
        "    gerador_user_stories = Agent(\n",
        "        name=\"agente_gerador_user_stories\",\n",
        "        model=\"gemini-2.0-flash\",\n",
        "        instruction=\"\"\"\n",
        "        Você é um especialista de produtos e sabe especificar demandas como ninguém.\n",
        "        Com base nas boas práticas de Product Management e metodologias ágeis, sua missão é redigir user stories claras, concisas e centradas no usuário.\n",
        "        Utilize o formato padrão:\n",
        "        Como [persona], quero [ação], para que [benefício]\n",
        "        Certifique-se de que:\n",
        "        A persona esteja clara e contextualizada\n",
        "        A ação seja específica e objetiva\n",
        "        O benefício represente o valor ou motivação real por trás da ação\n",
        "        \"\"\",\n",
        "        description=\"Agente que Produz as user stories no formato padrão\",\n",
        "    )\n",
        "\n",
        "    entrada_do_agente_gerador_user_stories = f\"Contexto:{contexto}\\nContexto analisado: {contexto_analisado}\"\n",
        "    # Executa o agente\n",
        "    user_stories = call_agent(gerador_user_stories, entrada_do_agente_gerador_user_stories)\n",
        "    return user_stories"
      ],
      "metadata": {
        "id": "y3VO1uo5_ghO"
      },
      "execution_count": 75,
      "outputs": []
    },
    {
      "cell_type": "code",
      "source": [
        "######################################\n",
        "# --- Agente 3: Gerador de Critérios de Aceitação --- #\n",
        "######################################\n",
        "def agente_gerador_criterios(contexto, contexto_analisado, user_stories):\n",
        "    gerador_criterios = Agent(\n",
        "        name=\"agente_gerador_criterios\",\n",
        "        model=\"gemini-2.0-flash\",\n",
        "        instruction=\"\"\"\n",
        "        Você é um Product Manager especializado em documentação de requisitos para times ágeis.\n",
        "        Seu objetivo é transformar uma user story em critérios de aceitação claros, objetivos e testáveis, garantindo que o time de desenvolvimento e QA saiba exatamente quando considerar a entrega como \"pronta\".\n",
        "        Siga estas boas práticas:\n",
        "        Escreva em linguagem objetiva\n",
        "        Evite ambiguidade ou termos vagos\n",
        "        Use a estrutura: \"O sistema deve...\" ou \"Deve ser possível...\"\n",
        "        Inclua critérios positivos e negativos, se aplicável\n",
        "        \"\"\",\n",
        "        description=\"Constrói critérios de aceitação claros, verificáveis e objetivos.\"\n",
        "    )\n",
        "    entrada_do_agente_gerador_criterios = f\"Contexto: {contexto}\\nContexto analisado: {contexto_analisado}\\nUser stories: {user_stories}\"\n",
        "    # Executa o agente\n",
        "    criterios = call_agent(gerador_criterios, entrada_do_agente_gerador_criterios)\n",
        "    return criterios"
      ],
      "metadata": {
        "id": "uOqlg2TRLVh1"
      },
      "execution_count": 69,
      "outputs": []
    },
    {
      "cell_type": "code",
      "source": [
        "##########################################\n",
        "# --- Agente 4: Revisor Gerador de Cenário de Teste --- #\n",
        "##########################################\n",
        "def agente_gerador_cenario(contexto, contexto_analisado, user_stories,criterios):\n",
        "    gerador_cenario = Agent(\n",
        "        name=\"agente_gerador_cenario\",\n",
        "        model=\"gemini-2.0-flash\",\n",
        "        instruction=\"\"\"\n",
        "        Você é um analista de QA com foco em automação e comportamento orientado a testes (BDD).\n",
        "        Sua missão é gerar cenários de teste comportamentais (Given / When / Then) com base na user story e nos critérios de aceitação fornecidos.\n",
        "        Boas práticas que devem ser seguidas:\n",
        "        Cada critério deve gerar pelo menos 1 cenário\n",
        "        Use o formato Gherkin: Cenario, Dado que, Quando, Então\n",
        "        Crie títulos de cenário descritivos\n",
        "        Explore variações positivas e negativas, se possível\n",
        "        Formate o texto de uma forma visual\n",
        "        \"\"\",\n",
        "        description=\"traduz os critérios de aceitação em cenários no estilo BDD (Behavior-Driven Development)\"\n",
        "    )\n",
        "    entrada_do_agente_gerador_cenario = f\"Contexto: {contexto}\\nContexto analisado: {contexto_analisado}\\nUser stories: {user_stories}\\nCriterios: {criterios}\"\n",
        "    # Executa o agente\n",
        "    cenarios = call_agent(gerador_cenario, entrada_do_agente_gerador_cenario)\n",
        "    return cenarios"
      ],
      "metadata": {
        "id": "_aTb1SdkLeT6"
      },
      "execution_count": 77,
      "outputs": []
    },
    {
      "cell_type": "code",
      "source": [
        "print(\"🚀 Iniciando o Sistema de Especificação de User Stories com 4 Agentes 🚀\")\n",
        "\n",
        "# --- Obter o Tópico do Usuário ---\n",
        "contexto = input(\"❓ Por favor, digite o CONTEXTO sobre o qual você quer especificar seus cards: \")\n",
        "\n",
        "# Inserir lógica do sistema de agentes ################################################\n",
        "if not contexto:\n",
        "    print(\"Você esqueceu de digitar o tópico!\")\n",
        "else:\n",
        "    print(f\"Maravilha! Vamos então criar o post sobre novidades em {contexto}\")\n",
        "\n",
        "    contexto_analisado = agente_analisador_contexto(contexto)\n",
        "    print(\"\\n--- 📝 Resultado do Agente 1 (Analisador de Contexto) ---\\n\")\n",
        "    display(to_markdown(contexto_analisado))\n",
        "    print(\"--------------------------------------------------------------\")\n",
        "\n",
        "    user_stories = agente_gerador_user_stories(contexto, contexto_analisado)\n",
        "    print(\"\\n--- 📝 Resultado do Agente 2 (Gerador de User Stories) ---\\n\")\n",
        "    display(to_markdown(user_stories))\n",
        "    print(\"--------------------------------------------------------------\")\n",
        "\n",
        "    criterios = agente_gerador_criterios(contexto, contexto_analisado, user_stories)\n",
        "    print(\"\\n--- 📝 Resultado do Agente 3 (Gerador de Critérios de Aceitação) ---\\n\")\n",
        "    display(to_markdown(criterios))\n",
        "    print(\"--------------------------------------------------------------\")\n",
        "\n",
        "    cenarios = agente_gerador_cenario(contexto, contexto_analisado, user_stories,criterios)\n",
        "    print(\"\\n--- 📝 Resultado do Agente 4 (Gerador de Cenários de Teste) ---\\n\")\n",
        "    display(to_markdown(cenarios))\n",
        "    print(\"--------------------------------------------------------------\")"
      ],
      "metadata": {
        "colab": {
          "base_uri": "https://localhost:8080/",
          "height": 1000
        },
        "id": "6xzI6LKzxxnN",
        "outputId": "572e6202-032f-492b-db4a-12f5a6e8ec5d"
      },
      "execution_count": 80,
      "outputs": [
        {
          "output_type": "stream",
          "name": "stdout",
          "text": [
            "🚀 Iniciando o Sistema de Especificação de User Stories com 4 Agentes 🚀\n",
            "❓ Por favor, digite o CONTEXTO sobre o qual você quer especificar seus cards: um funcionario do rh de uma escola que precisa lançar a quantidade de aulas semanais que cada professor ministra e isso é usado para fazer os cálculos do pagamento do salário do professor\n",
            "Maravilha! Vamos então criar o post sobre novidades em um funcionario do rh de uma escola que precisa lançar a quantidade de aulas semanais que cada professor ministra e isso é usado para fazer os cálculos do pagamento do salário do professor\n",
            "\n",
            "--- 📝 Resultado do Agente 1 (Analisador de Contexto) ---\n",
            "\n"
          ]
        },
        {
          "output_type": "display_data",
          "data": {
            "text/plain": [
              "<IPython.core.display.Markdown object>"
            ],
            "text/markdown": "> Compreendo o contexto. O sistema precisa permitir que o funcionário do RH da escola registre a quantidade de aulas semanais ministradas por cada professor, informação essencial para o cálculo correto da folha de pagamento.\n> \n> **Análise detalhada:**\n> \n> *   **Usuário/Persona:** Funcionário do RH da escola.\n> *   **Ação:** Lançar/registrar a quantidade de aulas semanais ministradas por um professor.\n> *   **Benefício:**\n>     *   Para o RH: Garantir a precisão no cálculo da folha de pagamento dos professores, evitando erros e retrabalho.\n>     *   Para a escola: Manter a conformidade com as obrigações trabalhistas e garantir a satisfação dos professores com o pagamento correto.\n> *   **Possíveis telas/fluxos:**\n>     *   Tela de listagem de professores.\n>     *   Tela de detalhe do professor, com campo para inserir a quantidade de aulas semanais.\n>     *   Possível tela de resumo/validação dos dados inseridos.\n> *   **Sistemas envolvidos:**\n>     *   Sistema de gestão de RH/folha de pagamento da escola.\n> *   **Informações ambíguas/faltantes:**\n>     *   Como o sistema identifica os professores? (ID, nome, etc.)\n>     *   Como o sistema valida a quantidade de aulas inserida? (Existe um limite máximo? Há algum tipo de regra de negócio?)\n>     *   O sistema permite registrar aulas extras ou substituições?\n>     *   O sistema mantém um histórico das quantidades de aulas lançadas?\n>     *   Como essa informação é utilizada no cálculo da folha de pagamento? (Há algum cálculo específico? Existe alguma integração com outros módulos do sistema?)\n> \n> **Sugestão de User Story:**\n> \n> Como um funcionário do RH, eu preciso lançar a quantidade de aulas semanais ministradas por cada professor no sistema, para que o cálculo da folha de pagamento seja feito corretamente.\n> \n> **Próximos passos:**\n> \n> Para refinar ainda mais a user story, seria importante obter mais detalhes sobre os pontos listados em \"Informações ambíguas/faltantes\". Isso ajudará a garantir que a solução desenvolvida atenda às necessidades do usuário e do negócio.\n> \n"
          },
          "metadata": {}
        },
        {
          "output_type": "stream",
          "name": "stdout",
          "text": [
            "--------------------------------------------------------------\n",
            "\n",
            "--- 📝 Resultado do Agente 2 (Gerador de User Stories) ---\n",
            "\n"
          ]
        },
        {
          "output_type": "display_data",
          "data": {
            "text/plain": [
              "<IPython.core.display.Markdown object>"
            ],
            "text/markdown": "> Com base no contexto e na análise detalhada, aqui estão algumas user stories adicionais para cobrir diferentes aspectos da necessidade:\n> \n> 1.  **Como um funcionário do RH, quero selecionar um professor da lista de funcionários ativos, para registrar a quantidade de aulas semanais ministradas por ele.**\n> 2.  **Como um funcionário do RH, quero visualizar o histórico da quantidade de aulas semanais lançadas para um professor, para ter um registro das informações anteriores.**\n> 3.  **Como um funcionário do RH, quero que o sistema valide a quantidade de aulas semanais inserida, alertando sobre possíveis inconsistências ou limites excedidos, para evitar erros no lançamento.**\n> 4.  **Como um funcionário do RH, quero ter a opção de registrar aulas extras ou substituições de um professor, para que o cálculo da folha de pagamento reflita com precisão as atividades realizadas.**\n> 5.  **Como um funcionário do RH, quero confirmar os dados lançados antes de salvar a quantidade de aulas semanais de um professor, para garantir que as informações estejam corretas.**\n> \n> \n"
          },
          "metadata": {}
        },
        {
          "output_type": "stream",
          "name": "stdout",
          "text": [
            "--------------------------------------------------------------\n",
            "\n",
            "--- 📝 Resultado do Agente 3 (Gerador de Critérios de Aceitação) ---\n",
            "\n"
          ]
        },
        {
          "output_type": "display_data",
          "data": {
            "text/plain": [
              "<IPython.core.display.Markdown object>"
            ],
            "text/markdown": "> ## Critérios de Aceitação Detalhados\n> \n> Com base nas user stories fornecidas, aqui estão os critérios de aceitação detalhados, focados em clareza, objetividade e testabilidade:\n> \n> **User Story 1: Selecionar um professor da lista de funcionários ativos**\n> \n> *   O sistema deve exibir uma lista de todos os professores **ativos** no sistema.\n> *   A lista de professores deve ser exibida em ordem alfabética (sobrenome, nome).\n> *   Deve ser possível filtrar a lista de professores por nome ou ID funcional.\n> *   Ao selecionar um professor, o sistema deve exibir os detalhes do professor (nome, ID funcional, disciplina(s) lecionada(s)).\n> *   Se não houver professores ativos no sistema, o sistema deve exibir uma mensagem clara informando que \"Não há professores ativos cadastrados\".\n> *   O sistema deve retornar uma mensagem de erro caso o usuário tente selecionar um professor inativo.\n> \n> **User Story 2: Visualizar o histórico da quantidade de aulas semanais lançadas para um professor**\n> \n> *   Em tela de detalhe do professor, o sistema deve exibir um histórico de todas as quantidades de aulas semanais lançadas para o professor selecionado.\n> *   O histórico deve incluir a data do lançamento, a quantidade de aulas e o usuário do RH que realizou o lançamento.\n> *   O histórico deve ser exibido em ordem cronológica inversa (do mais recente para o mais antigo).\n> *   Deve ser possível filtrar o histórico por período (data de início e data de fim).\n> *   Se não houver histórico de lançamentos para o professor, o sistema deve exibir a mensagem \"Não há histórico de lançamentos para este professor\".\n> *   A quantidade de registros exibidos por página deve ser configurável (ex: 10, 20, 50 registros por página).\n> \n> **User Story 3: Validar a quantidade de aulas semanais inserida**\n> \n> *   O sistema deve validar se o campo \"Quantidade de Aulas Semanais\" é um número inteiro positivo.\n> *   Se o valor inserido não for um número inteiro, o sistema deve exibir uma mensagem de erro clara e informativa (ex: \"Por favor, insira um número inteiro válido\").\n> *   Se o valor inserido for um número negativo, o sistema deve exibir uma mensagem de erro (ex: \"A quantidade de aulas semanais não pode ser um número negativo\").\n> *   O sistema deve validar se a quantidade de aulas semanais inserida não excede o limite máximo permitido (definir qual é o limite máximo).\n> *   Se a quantidade de aulas exceder o limite, o sistema deve exibir uma mensagem de erro (ex: \"A quantidade de aulas semanais excede o limite máximo permitido de [limite]\").\n> *   O sistema deve permitir inserir o valor '0' (zero) no campo \"Quantidade de Aulas Semanais\".\n> \n> **User Story 4: Registrar aulas extras ou substituições**\n> \n> *   O sistema deve permitir registrar aulas extras ou substituições separadamente das aulas semanais regulares.\n> *   Deve haver um campo específico para registrar a quantidade de aulas extras/substituições.\n> *   O sistema deve permitir selecionar o tipo de aula extra/substituição (ex: substituição por licença médica, aula extra por projeto específico).\n> *   Deve ser possível adicionar uma observação/justificativa para a aula extra/substituição.\n> *   As aulas extras/substituições devem ser exibidas separadamente das aulas semanais regulares no histórico.\n> *   A validação da quantidade de aulas extras/substituições deve seguir as mesmas regras da quantidade de aulas semanais regulares (inteiro positivo, limite máximo).\n> \n> **User Story 5: Confirmar os dados lançados antes de salvar**\n> \n> *   Antes de salvar a quantidade de aulas semanais, o sistema deve exibir uma tela de confirmação com todos os dados inseridos (nome do professor, quantidade de aulas semanais, aulas extras/substituições, data do lançamento).\n> *   Na tela de confirmação, deve haver um botão \"Confirmar\" para salvar os dados e um botão \"Cancelar\" para retornar à tela de edição.\n> *   Ao clicar em \"Confirmar\", o sistema deve exibir uma mensagem de sucesso (ex: \"Lançamento realizado com sucesso!\").\n> *   Ao clicar em \"Cancelar\", o sistema deve retornar à tela de edição, preservando os dados inseridos.\n> *   O sistema deve registrar a ação de lançamento no histórico do professor, incluindo o usuário do RH que realizou o lançamento e a data/hora do lançamento.\n> \n> Estes critérios de aceitação detalhados fornecem uma base sólida para o desenvolvimento e teste da funcionalidade. Eles garantem que o sistema atenda às necessidades do usuário e que o cálculo da folha de pagamento seja feito corretamente.\n> \n"
          },
          "metadata": {}
        },
        {
          "output_type": "stream",
          "name": "stdout",
          "text": [
            "--------------------------------------------------------------\n",
            "\n",
            "--- 📝 Resultado do Agente 4 (Gerador de Cenários de Teste) ---\n",
            "\n"
          ]
        },
        {
          "output_type": "display_data",
          "data": {
            "text/plain": [
              "<IPython.core.display.Markdown object>"
            ],
            "text/markdown": "> ## Cenários de Teste BDD\n> \n> **User Story 1: Selecionar um professor da lista de funcionários ativos**\n> \n> ```gherkin\n> Cenário: Exibir lista de professores ativos\n>     Dado que o sistema possui professores ativos cadastrados\n>     Quando o funcionário do RH acessa a tela de lançamento de aulas\n>     Então o sistema deve exibir uma lista de todos os professores ativos\n> \n> Cenário: Listar professores em ordem alfabética\n>     Dado que o sistema possui professores ativos cadastrados\n>     Quando o funcionário do RH acessa a tela de lançamento de aulas\n>     Então a lista de professores deve ser exibida em ordem alfabética (sobrenome, nome)\n> \n> Cenário: Filtrar lista de professores por nome\n>     Dado que o sistema possui professores ativos cadastrados\n>     Quando o funcionário do RH digita um nome no campo de filtro\n>     Então o sistema deve exibir apenas os professores cujo nome corresponda ao filtro\n> \n> Cenário: Filtrar lista de professores por ID funcional\n>     Dado que o sistema possui professores ativos cadastrados\n>     Quando o funcionário do RH digita um ID funcional no campo de filtro\n>     Então o sistema deve exibir apenas o professor cujo ID funcional corresponda ao filtro\n> \n> Cenário: Exibir detalhes do professor ao selecionar\n>     Dado que o funcionário do RH seleciona um professor da lista\n>     Quando o sistema exibe os detalhes do professor\n>     Então o sistema deve exibir o nome, ID funcional e disciplina(s) lecionada(s) do professor\n> \n> Cenário: Exibir mensagem quando não houver professores ativos\n>     Dado que não existem professores ativos no sistema\n>     Quando o funcionário do RH acessa a tela de lançamento de aulas\n>     Então o sistema deve exibir a mensagem \"Não há professores ativos cadastrados\"\n> \n> Cenário: Exibir mensagem de erro ao tentar selecionar um professor inativo\n>     Dado que o sistema possui um professor inativo cadastrado\n>     Quando o funcionário do RH tenta selecionar o professor inativo\n>     Então o sistema deve retornar uma mensagem de erro informando que o professor está inativo\n> ```\n> \n> **User Story 2: Visualizar o histórico da quantidade de aulas semanais lançadas para um professor**\n> \n> ```gherkin\n> Cenário: Exibir histórico de lançamentos na tela de detalhe do professor\n>     Dado que o professor possui lançamentos de aulas semanais registrados\n>     Quando o funcionário do RH acessa a tela de detalhe do professor\n>     Então o sistema deve exibir um histórico de todos os lançamentos de aulas semanais\n> \n> Cenário: Histórico deve incluir data, quantidade de aulas e usuário do RH\n>     Dado que o professor possui lançamentos de aulas semanais registrados\n>     Quando o sistema exibe o histórico de lançamentos\n>     Então cada registro no histórico deve incluir a data do lançamento, a quantidade de aulas e o usuário do RH que realizou o lançamento\n> \n> Cenário: Exibir histórico em ordem cronológica inversa\n>     Dado que o professor possui lançamentos de aulas semanais registrados\n>     Quando o sistema exibe o histórico de lançamentos\n>     Então o histórico deve ser exibido em ordem cronológica inversa (do mais recente para o mais antigo)\n> \n> Cenário: Filtrar histórico por período\n>     Dado que o professor possui lançamentos de aulas semanais registrados\n>     Quando o funcionário do RH define um período para o filtro\n>     Então o sistema deve exibir apenas os lançamentos que se encaixam no período definido\n> \n> Cenário: Exibir mensagem quando não houver histórico de lançamentos\n>     Dado que o professor não possui lançamentos de aulas semanais registrados\n>     Quando o funcionário do RH acessa a tela de detalhe do professor\n>     Então o sistema deve exibir a mensagem \"Não há histórico de lançamentos para este professor\"\n> \n> Cenário: Exibir quantidade de registros configurável por página\n>     Dado que o funcionário do RH deseja visualizar o histórico de lançamentos\n>     Quando o sistema exibe o histórico de lançamentos\n>     Então a quantidade de registros exibidos por página deve ser configurável (ex: 10, 20, 50 registros por página)\n> ```\n> \n> **User Story 3: Validar a quantidade de aulas semanais inserida**\n> \n> ```gherkin\n> Cenário: Validar que o campo \"Quantidade de Aulas Semanais\" é um número inteiro positivo\n>     Dado que o funcionário do RH tenta inserir um valor não numérico no campo \"Quantidade de Aulas Semanais\"\n>     Quando o funcionário do RH salva o lançamento\n>     Então o sistema deve exibir uma mensagem de erro \"Por favor, insira um número inteiro válido\"\n> \n> Cenário: Validar que o campo \"Quantidade de Aulas Semanais\" não é um número negativo\n>     Dado que o funcionário do RH tenta inserir um número negativo no campo \"Quantidade de Aulas Semanais\"\n>     Quando o funcionário do RH salva o lançamento\n>     Então o sistema deve exibir uma mensagem de erro \"A quantidade de aulas semanais não pode ser um número negativo\"\n> \n> Cenário: Validar que a quantidade de aulas semanais inserida não excede o limite máximo permitido\n>     Dado que o limite máximo de aulas semanais é X\n>     E o funcionário do RH tenta inserir uma quantidade de aulas semanais maior que X\n>     Quando o funcionário do RH salva o lançamento\n>     Então o sistema deve exibir uma mensagem de erro \"A quantidade de aulas semanais excede o limite máximo permitido de X\"\n> \n> Cenário: Permitir inserir o valor '0' (zero) no campo \"Quantidade de Aulas Semanais\"\n>     Dado que o funcionário do RH insere o valor '0' no campo \"Quantidade de Aulas Semanais\"\n>     Quando o funcionário do RH salva o lançamento\n>     Então o sistema deve salvar o lançamento com sucesso\n> ```\n> \n> **User Story 4: Registrar aulas extras ou substituições**\n> \n> ```gherkin\n> Cenário: Permitir registrar aulas extras ou substituições separadamente\n>     Dado que o funcionário do RH está lançando aulas\n>     Quando o funcionário do RH insere aulas extras ou substituições\n>     Então o sistema deve permitir registrar essas aulas separadamente das aulas semanais regulares\n> \n> Cenário: Deve haver um campo específico para registrar a quantidade de aulas extras/substituições\n>     Dado que o funcionário do RH está lançando aulas extras ou substituições\n>     Quando o funcionário do RH insere as informações\n>     Então o sistema deve apresentar um campo específico para a quantidade de aulas extras/substituições\n> \n> Cenário: Permitir selecionar o tipo de aula extra/substituição\n>     Dado que o funcionário do RH está lançando aulas extras ou substituições\n>     Quando o funcionário do RH insere as informações\n>     Então o sistema deve permitir selecionar o tipo de aula extra/substituição (ex: substituição por licença médica, aula extra por projeto específico)\n> \n> Cenário: Permitir adicionar uma observação/justificativa para a aula extra/substituição\n>     Dado que o funcionário do RH está lançando aulas extras ou substituições\n>     Quando o funcionário do RH insere as informações\n>     Então o sistema deve permitir adicionar uma observação/justificativa para a aula extra/substituição\n> \n> Cenário: Aulas extras/substituições devem ser exibidas separadamente no histórico\n>     Dado que o professor possui aulas extras/substituições lançadas\n>     Quando o funcionário do RH visualiza o histórico do professor\n>     Então as aulas extras/substituições devem ser exibidas separadamente das aulas semanais regulares\n> \n> Cenário: Validação da quantidade de aulas extras/substituições segue as mesmas regras das aulas regulares\n>    Dado que o funcionário do RH tenta inserir um valor inválido no campo de aulas extras/substituições\n>    Quando o funcionário do RH salva o lançamento\n>    Então o sistema deve aplicar as mesmas regras de validação das aulas regulares (inteiro positivo, limite máximo)\n> ```\n> \n> **User Story 5: Confirmar os dados lançados antes de salvar**\n> \n> ```gherkin\n> Cenário: Exibir tela de confirmação com todos os dados inseridos\n>     Dado que o funcionário do RH preencheu todos os dados do lançamento\n>     Quando o funcionário do RH tenta salvar o lançamento\n>     Então o sistema deve exibir uma tela de confirmação com o nome do professor, quantidade de aulas semanais, aulas extras/substituições e data do lançamento\n> \n> Cenário: Tela de confirmação deve ter botões \"Confirmar\" e \"Cancelar\"\n>     Dado que o sistema exibe a tela de confirmação\n>     Então a tela de confirmação deve ter um botão \"Confirmar\" para salvar os dados e um botão \"Cancelar\" para retornar à tela de edição\n> \n> Cenário: Exibir mensagem de sucesso ao clicar em \"Confirmar\"\n>     Dado que o funcionário do RH clica no botão \"Confirmar\"\n>     Então o sistema deve exibir uma mensagem de sucesso \"Lançamento realizado com sucesso!\"\n> \n> Cenário: Retornar à tela de edição ao clicar em \"Cancelar\"\n>     Dado que o funcionário do RH clica no botão \"Cancelar\"\n>     Então o sistema deve retornar à tela de edição, preservando os dados inseridos\n> \n> Cenário: Registrar a ação de lançamento no histórico do professor\n>     Dado que o funcionário do RH confirma o lançamento\n>     Quando o sistema salva o lançamento\n>     Então o sistema deve registrar a ação de lançamento no histórico do professor, incluindo o usuário do RH que realizou o lançamento e a data/hora do lançamento\n> ```\n"
          },
          "metadata": {}
        },
        {
          "output_type": "stream",
          "name": "stdout",
          "text": [
            "--------------------------------------------------------------\n"
          ]
        }
      ]
    },
    {
      "cell_type": "code",
      "source": [],
      "metadata": {
        "id": "0V-TuygTZN3m"
      },
      "execution_count": null,
      "outputs": []
    }
  ]
}