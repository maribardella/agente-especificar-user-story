{
  "nbformat": 4,
  "nbformat_minor": 0,
  "metadata": {
    "colab": {
      "provenance": [],
      "include_colab_link": true
    },
    "kernelspec": {
      "name": "python3",
      "display_name": "Python 3"
    },
    "language_info": {
      "name": "python"
    }
  },
  "cells": [
    {
      "cell_type": "markdown",
      "metadata": {
        "id": "view-in-github",
        "colab_type": "text"
      },
      "source": [
        "<a href=\"https://colab.research.google.com/github/maribardella/agente-especificar-user-story/blob/main/Agente_de_Especifica%C3%A7%C3%A3o_de_User_Stories.ipynb\" target=\"_parent\"><img src=\"https://colab.research.google.com/assets/colab-badge.svg\" alt=\"Open In Colab\"/></a>"
      ]
    },
    {
      "cell_type": "code",
      "source": [
        "%pip -q install google-genai"
      ],
      "metadata": {
        "id": "UCCbECexLk_h"
      },
      "execution_count": 3,
      "outputs": []
    },
    {
      "cell_type": "code",
      "source": [
        "# Configura a API Key do Google Gemini\n",
        "\n",
        "import os\n",
        "from google.colab import userdata\n",
        "\n",
        "os.environ[\"GOOGLE_API_KEY\"] = userdata.get('GOOGLE_API_KEY')"
      ],
      "metadata": {
        "id": "NfCqHo1tLk8P"
      },
      "execution_count": 4,
      "outputs": []
    },
    {
      "cell_type": "code",
      "source": [
        "# Configura o cliente da SDK do Gemini\n",
        "\n",
        "from google import genai\n",
        "\n",
        "client = genai.Client()\n",
        "\n",
        "MODEL_ID = \"gemini-2.0-flash\""
      ],
      "metadata": {
        "id": "bV4w0H5TLk5g"
      },
      "execution_count": 6,
      "outputs": []
    },
    {
      "cell_type": "code",
      "source": [
        "# Instalar Framework de agentes do Google ################################################\n",
        "!pip install -q google-adk"
      ],
      "metadata": {
        "colab": {
          "base_uri": "https://localhost:8080/"
        },
        "id": "a1eRPalxEnj7",
        "outputId": "d385550e-0a11-457d-c94c-88b41f4d2096"
      },
      "execution_count": 10,
      "outputs": [
        {
          "output_type": "stream",
          "name": "stdout",
          "text": [
            "\u001b[?25l   \u001b[90m━━━━━━━━━━━━━━━━━━━━━━━━━━━━━━━━━━━━━━━━\u001b[0m \u001b[32m0.0/1.2 MB\u001b[0m \u001b[31m?\u001b[0m eta \u001b[36m-:--:--\u001b[0m\r\u001b[2K   \u001b[91m━━━━━━━━━━━━━━━━━━━━━━━━━━━\u001b[0m\u001b[90m╺\u001b[0m\u001b[90m━━━━━━━━━━━━\u001b[0m \u001b[32m0.8/1.2 MB\u001b[0m \u001b[31m24.2 MB/s\u001b[0m eta \u001b[36m0:00:01\u001b[0m\r\u001b[2K   \u001b[90m━━━━━━━━━━━━━━━━━━━━━━━━━━━━━━━━━━━━━━━━\u001b[0m \u001b[32m1.2/1.2 MB\u001b[0m \u001b[31m20.4 MB/s\u001b[0m eta \u001b[36m0:00:00\u001b[0m\n",
            "\u001b[2K   \u001b[90m━━━━━━━━━━━━━━━━━━━━━━━━━━━━━━━━━━━━━━━━\u001b[0m \u001b[32m232.1/232.1 kB\u001b[0m \u001b[31m18.5 MB/s\u001b[0m eta \u001b[36m0:00:00\u001b[0m\n",
            "\u001b[2K   \u001b[90m━━━━━━━━━━━━━━━━━━━━━━━━━━━━━━━━━━━━━━━━\u001b[0m \u001b[32m95.2/95.2 kB\u001b[0m \u001b[31m7.0 MB/s\u001b[0m eta \u001b[36m0:00:00\u001b[0m\n",
            "\u001b[2K   \u001b[90m━━━━━━━━━━━━━━━━━━━━━━━━━━━━━━━━━━━━━━━━\u001b[0m \u001b[32m217.1/217.1 kB\u001b[0m \u001b[31m9.9 MB/s\u001b[0m eta \u001b[36m0:00:00\u001b[0m\n",
            "\u001b[2K   \u001b[90m━━━━━━━━━━━━━━━━━━━━━━━━━━━━━━━━━━━━━━━━\u001b[0m \u001b[32m334.1/334.1 kB\u001b[0m \u001b[31m22.4 MB/s\u001b[0m eta \u001b[36m0:00:00\u001b[0m\n",
            "\u001b[2K   \u001b[90m━━━━━━━━━━━━━━━━━━━━━━━━━━━━━━━━━━━━━━━━\u001b[0m \u001b[32m125.1/125.1 kB\u001b[0m \u001b[31m10.4 MB/s\u001b[0m eta \u001b[36m0:00:00\u001b[0m\n",
            "\u001b[2K   \u001b[90m━━━━━━━━━━━━━━━━━━━━━━━━━━━━━━━━━━━━━━━━\u001b[0m \u001b[32m65.8/65.8 kB\u001b[0m \u001b[31m5.0 MB/s\u001b[0m eta \u001b[36m0:00:00\u001b[0m\n",
            "\u001b[2K   \u001b[90m━━━━━━━━━━━━━━━━━━━━━━━━━━━━━━━━━━━━━━━━\u001b[0m \u001b[32m119.0/119.0 kB\u001b[0m \u001b[31m9.6 MB/s\u001b[0m eta \u001b[36m0:00:00\u001b[0m\n",
            "\u001b[2K   \u001b[90m━━━━━━━━━━━━━━━━━━━━━━━━━━━━━━━━━━━━━━━━\u001b[0m \u001b[32m194.9/194.9 kB\u001b[0m \u001b[31m15.9 MB/s\u001b[0m eta \u001b[36m0:00:00\u001b[0m\n",
            "\u001b[2K   \u001b[90m━━━━━━━━━━━━━━━━━━━━━━━━━━━━━━━━━━━━━━━━\u001b[0m \u001b[32m62.5/62.5 kB\u001b[0m \u001b[31m5.1 MB/s\u001b[0m eta \u001b[36m0:00:00\u001b[0m\n",
            "\u001b[2K   \u001b[90m━━━━━━━━━━━━━━━━━━━━━━━━━━━━━━━━━━━━━━━━\u001b[0m \u001b[32m103.3/103.3 kB\u001b[0m \u001b[31m8.1 MB/s\u001b[0m eta \u001b[36m0:00:00\u001b[0m\n",
            "\u001b[2K   \u001b[90m━━━━━━━━━━━━━━━━━━━━━━━━━━━━━━━━━━━━━━━━\u001b[0m \u001b[32m44.4/44.4 kB\u001b[0m \u001b[31m3.0 MB/s\u001b[0m eta \u001b[36m0:00:00\u001b[0m\n",
            "\u001b[2K   \u001b[90m━━━━━━━━━━━━━━━━━━━━━━━━━━━━━━━━━━━━━━━━\u001b[0m \u001b[32m72.0/72.0 kB\u001b[0m \u001b[31m5.6 MB/s\u001b[0m eta \u001b[36m0:00:00\u001b[0m\n",
            "\u001b[?25h"
          ]
        }
      ]
    },
    {
      "cell_type": "code",
      "execution_count": 15,
      "metadata": {
        "id": "aePV2bdfDeoW"
      },
      "outputs": [],
      "source": [
        "from google.adk.agents import Agent\n",
        "from google.adk.runners import Runner\n",
        "from google.adk.sessions import InMemorySessionService\n",
        "from google.adk.tools import google_search\n",
        "from google.genai import types  # Para criar conteúdos (Content e Part)\n",
        "from datetime import date\n",
        "import textwrap # Para formatar melhor a saída de texto\n",
        "from IPython.display import display, Markdown # Para exibir texto formatado no Colab\n",
        "import requests # Para fazer requisições HTTP\n",
        "import warnings\n",
        "\n",
        "warnings.filterwarnings(\"ignore\")"
      ]
    },
    {
      "cell_type": "code",
      "source": [
        "# Função auxiliar que envia uma mensagem para um agente via Runner e retorna a resposta final\n",
        "def call_agent(agent: Agent, message_text: str) -> str:\n",
        "    # Cria um serviço de sessão em memória\n",
        "    session_service = InMemorySessionService()\n",
        "    # Cria uma nova sessão (você pode personalizar os IDs conforme necessário)\n",
        "    session = session_service.create_session(app_name=agent.name, user_id=\"user1\", session_id=\"session1\")\n",
        "    # Cria um Runner para o agente\n",
        "    runner = Runner(agent=agent, app_name=agent.name, session_service=session_service)\n",
        "    # Cria o conteúdo da mensagem de entrada\n",
        "    content = types.Content(role=\"user\", parts=[types.Part(text=message_text)])\n",
        "\n",
        "    final_response = \"\"\n",
        "    # Itera assincronamente pelos eventos retornados durante a execução do agente\n",
        "    for event in runner.run(user_id=\"user1\", session_id=\"session1\", new_message=content):\n",
        "        if event.is_final_response():\n",
        "          for part in event.content.parts:\n",
        "            if part.text is not None:\n",
        "              final_response += part.text\n",
        "              final_response += \"\\n\"\n",
        "    return final_response"
      ],
      "metadata": {
        "id": "_xP4lWhsS5ko"
      },
      "execution_count": 16,
      "outputs": []
    },
    {
      "cell_type": "code",
      "source": [
        "# Função auxiliar para exibir texto formatado em Markdown no Colab\n",
        "def to_markdown(text):\n",
        "  text = text.replace('•', '  *')\n",
        "  return Markdown(textwrap.indent(text, '> ', predicate=lambda _: True))"
      ],
      "metadata": {
        "id": "8dosiodaxfFR"
      },
      "execution_count": 17,
      "outputs": []
    },
    {
      "cell_type": "code",
      "source": [
        "##########################################\n",
        "# --- Agente 1: Analisador de Contexto --- #\n",
        "##########################################\n",
        "def agente_analisador_contexto(contexto):\n",
        "\n",
        "    analisador_contexto = Agent(\n",
        "        name=\"agente_analisador_contexto\",\n",
        "        model=\"gemini-2.0-flash\",\n",
        "        instruction=\"\"\"\n",
        "        Você é um analista de produto altamente experiente, com profundo conhecimento em elicitação de requisitos e compreensão de necessidades de negócio.\n",
        "        Seu objetivo é interpretar o input fornecido por um Product Owner e extrair os elementos essenciais para criação de uma user story de qualidade.\n",
        "        Utilize boas práticas de análise de requisitos para identificar:\n",
        "        Quem é o usuário ou persona envolvida?\n",
        "        Qual é a ação ou funcionalidade desejada?\n",
        "        Qual é o benefício ou valor que essa ação traz para o usuário?\n",
        "        Há telas, fluxos ou sistemas mencionados?\n",
        "        Há informações ambíguas ou faltantes que precisam de esclarecimento?\n",
        "        \"\"\",\n",
        "        description=\"Agente que faz o entendimento sobre o produto, personas e funcionalidades.\",\n",
        "    )\n",
        "\n",
        "    entrada_do_agente_analisador_contexto = f\"Contexto: {contexto}\"\n",
        "\n",
        "    contexto_analisado = call_agent(analisador_contexto, entrada_do_agente_analisador_contexto)\n",
        "    return contexto_analisado"
      ],
      "metadata": {
        "id": "o8bqIfi_DyH8"
      },
      "execution_count": 79,
      "outputs": []
    },
    {
      "cell_type": "code",
      "source": [
        "################################################\n",
        "# --- Agente 2: Gerador de User Stories --- #\n",
        "################################################\n",
        "def agente_gerador_user_stories(contexto, contexto_analisado):\n",
        "    gerador_user_stories = Agent(\n",
        "        name=\"agente_gerador_user_stories\",\n",
        "        model=\"gemini-2.0-flash\",\n",
        "        instruction=\"\"\"\n",
        "        Você é um especialista de produtos e sabe especificar demandas como ninguém.\n",
        "        Com base nas boas práticas de Product Management e metodologias ágeis, sua missão é redigir user stories claras, concisas e centradas no usuário.\n",
        "        Utilize o formato padrão:\n",
        "        Como [persona], quero [ação], para que [benefício]\n",
        "        Certifique-se de que:\n",
        "        A persona esteja clara e contextualizada\n",
        "        A ação seja específica e objetiva\n",
        "        O benefício represente o valor ou motivação real por trás da ação\n",
        "        \"\"\",\n",
        "        description=\"Agente que Produz as user stories no formato padrão\",\n",
        "    )\n",
        "\n",
        "    entrada_do_agente_gerador_user_stories = f\"Contexto:{contexto}\\nContexto analisado: {contexto_analisado}\"\n",
        "    # Executa o agente\n",
        "    user_stories = call_agent(gerador_user_stories, entrada_do_agente_gerador_user_stories)\n",
        "    return user_stories"
      ],
      "metadata": {
        "id": "y3VO1uo5_ghO"
      },
      "execution_count": 75,
      "outputs": []
    },
    {
      "cell_type": "code",
      "source": [
        "######################################\n",
        "# --- Agente 3: Gerador de Critérios de Aceitação --- #\n",
        "######################################\n",
        "def agente_gerador_criterios(contexto, contexto_analisado, user_stories):\n",
        "    gerador_criterios = Agent(\n",
        "        name=\"agente_gerador_criterios\",\n",
        "        model=\"gemini-2.0-flash\",\n",
        "        instruction=\"\"\"\n",
        "        Você é um Product Manager especializado em documentação de requisitos para times ágeis.\n",
        "        Seu objetivo é transformar uma user story em critérios de aceitação claros, objetivos e testáveis, garantindo que o time de desenvolvimento e QA saiba exatamente quando considerar a entrega como \"pronta\".\n",
        "        Siga estas boas práticas:\n",
        "        Escreva em linguagem objetiva\n",
        "        Evite ambiguidade ou termos vagos\n",
        "        Use a estrutura: \"O sistema deve...\" ou \"Deve ser possível...\"\n",
        "        Inclua critérios positivos e negativos, se aplicável\n",
        "        \"\"\",\n",
        "        description=\"Constrói critérios de aceitação claros, verificáveis e objetivos.\"\n",
        "    )\n",
        "    entrada_do_agente_gerador_criterios = f\"Contexto: {contexto}\\nContexto analisado: {contexto_analisado}\\nUser stories: {user_stories}\"\n",
        "    # Executa o agente\n",
        "    criterios = call_agent(gerador_criterios, entrada_do_agente_gerador_criterios)\n",
        "    return criterios"
      ],
      "metadata": {
        "id": "uOqlg2TRLVh1"
      },
      "execution_count": 69,
      "outputs": []
    },
    {
      "cell_type": "code",
      "source": [
        "##########################################\n",
        "# --- Agente 4: Revisor Gerador de Cenário de Teste --- #\n",
        "##########################################\n",
        "def agente_gerador_cenario(contexto, contexto_analisado, user_stories,criterios):\n",
        "    gerador_cenario = Agent(\n",
        "        name=\"agente_gerador_cenario\",\n",
        "        model=\"gemini-2.0-flash\",\n",
        "        instruction=\"\"\"\n",
        "        Você é um analista de QA com foco em automação e comportamento orientado a testes (BDD).\n",
        "        Sua missão é gerar cenários de teste comportamentais (Given / When / Then) com base na user story e nos critérios de aceitação fornecidos.\n",
        "        Boas práticas que devem ser seguidas:\n",
        "        Cada critério deve gerar pelo menos 1 cenário\n",
        "        Use o formato Gherkin: Cenario, Dado que, Quando, Então\n",
        "        Crie títulos de cenário descritivos\n",
        "        Explore variações positivas e negativas, se possível\n",
        "        Formate o texto de uma forma visual\n",
        "        \"\"\",\n",
        "        description=\"traduz os critérios de aceitação em cenários no estilo BDD (Behavior-Driven Development)\"\n",
        "    )\n",
        "    entrada_do_agente_gerador_cenario = f\"Contexto: {contexto}\\nContexto analisado: {contexto_analisado}\\nUser stories: {user_stories}\\nCriterios: {criterios}\"\n",
        "    # Executa o agente\n",
        "    cenarios = call_agent(gerador_cenario, entrada_do_agente_gerador_cenario)\n",
        "    return cenarios"
      ],
      "metadata": {
        "id": "_aTb1SdkLeT6"
      },
      "execution_count": 77,
      "outputs": []
    },
    {
      "cell_type": "code",
      "source": [
        "print(\"🚀 Iniciando o Sistema de Especificação de User Stories com 4 Agentes 🚀\")\n",
        "\n",
        "# --- Obter o Tópico do Usuário ---\n",
        "contexto = input(\"❓ Por favor, digite o CONTEXTO sobre o qual você quer especificar seus cards: \")\n",
        "\n",
        "# Inserir lógica do sistema de agentes ################################################\n",
        "if not contexto:\n",
        "    print(\"Você esqueceu de digitar o tópico!\")\n",
        "else:\n",
        "    print(f\"Maravilha! Vamos então criar o post sobre novidades em {contexto}\")\n",
        "\n",
        "    contexto_analisado = agente_analisador_contexto(contexto)\n",
        "    print(\"\\n--- 📝 Resultado do Agente 1 (Analisador de Contexto) ---\\n\")\n",
        "    display(to_markdown(contexto_analisado))\n",
        "    print(\"--------------------------------------------------------------\")\n",
        "\n",
        "    user_stories = agente_gerador_user_stories(contexto, contexto_analisado)\n",
        "    print(\"\\n--- 📝 Resultado do Agente 2 (Gerador de User Stories) ---\\n\")\n",
        "    display(to_markdown(user_stories))\n",
        "    print(\"--------------------------------------------------------------\")\n",
        "\n",
        "    criterios = agente_gerador_criterios(contexto, contexto_analisado, user_stories)\n",
        "    print(\"\\n--- 📝 Resultado do Agente 3 (Gerador de Critérios de Aceitação) ---\\n\")\n",
        "    display(to_markdown(criterios))\n",
        "    print(\"--------------------------------------------------------------\")\n",
        "\n",
        "    cenarios = agente_gerador_cenario(contexto, contexto_analisado, user_stories,criterios)\n",
        "    print(\"\\n--- 📝 Resultado do Agente 4 (Gerador de Cenários de Teste) ---\\n\")\n",
        "    display(to_markdown(cenarios))\n",
        "    print(\"--------------------------------------------------------------\")"
      ],
      "metadata": {
        "id": "6xzI6LKzxxnN"
      },
      "execution_count": null,
      "outputs": []
    }
  ]
}